{
 "cells": [
  {
   "cell_type": "markdown",
   "id": "b93c3d6b-6147-438a-a804-e6002842f616",
   "metadata": {
    "tags": []
   },
   "source": [
    "## 1. Filtering out all the prime numbers using Sieve of Eratosthenes algorithm\n",
    "- All the prime numbers from 1 to 100000 will be filtered out.\n",
    "- `Table[x]` will return `True` if `x+1` is a **prime number**, and `False` otherwise."
   ]
  },
  {
   "cell_type": "code",
   "execution_count": 1,
   "id": "96afa218-0436-44bf-a336-6be1fef1576b",
   "metadata": {
    "tags": []
   },
   "outputs": [],
   "source": [
    "Table = [True for i in range(0,100000)]\n",
    "Table[0] = False # 1 is not a prime number\n",
    "for i in range(1,50000):\n",
    "    if Table[i] == True:\n",
    "        for j in range((i+1)**2-1,100000,(i+1)):\n",
    "            Table[j] = False"
   ]
  },
  {
   "cell_type": "markdown",
   "id": "d540f4cc-1abe-4338-af3a-2e82708de47a",
   "metadata": {
    "tags": []
   },
   "source": [
    "## 2. Generating prime counting function π(x)\n",
    "- Iterates from integer 1 to 100000 and counts the number of primes smaller than or equal to each integer x.\n"
   ]
  },
  {
   "cell_type": "code",
   "execution_count": 2,
   "id": "07ef4b07-ea5d-4510-a62a-bde68b5a195f",
   "metadata": {
    "tags": []
   },
   "outputs": [],
   "source": [
    "Pi=[0]*100000\n",
    "for i in range(0,100000):\n",
    "    primes_smaller = 0\n",
    "    for j in range(0,i+1):\n",
    "        if Table[j]:\n",
    "            primes_smaller += 1\n",
    "    Pi[i] = primes_smaller"
   ]
  },
  {
   "cell_type": "markdown",
   "id": "d54973c2-a9e7-46e6-8791-b2bd2f8edb75",
   "metadata": {
    "tags": []
   },
   "source": [
    "## 3. Save data into csv file"
   ]
  },
  {
   "cell_type": "code",
   "execution_count": 3,
   "id": "8cb6b572-d8a2-4c5b-98ff-45e2480a95b5",
   "metadata": {
    "tags": []
   },
   "outputs": [],
   "source": [
    "import csv\n",
    "\n",
    "#create a list where each entry is (num, number of primes below this num) \n",
    "data = [(i+1, Pi[i]) for i in range(0,100000)]  \n",
    "\n",
    "#writing to CSV\n",
    "filename = \"π(x).csv\"\n",
    "with open(filename, mode='w', newline='') as file:\n",
    "    writer = csv.writer(file)\n",
    "    writer.writerow([\"Number x\", \"Number of primes below or equal to x\"])  #writing header\n",
    "    writer.writerows(data)\n"
   ]
  }
 ],
 "metadata": {
  "kernelspec": {
   "display_name": "Python 3 (ipykernel)",
   "language": "python",
   "name": "python3"
  },
  "language_info": {
   "codemirror_mode": {
    "name": "ipython",
    "version": 3
   },
   "file_extension": ".py",
   "mimetype": "text/x-python",
   "name": "python",
   "nbconvert_exporter": "python",
   "pygments_lexer": "ipython3",
   "version": "3.11.4"
  }
 },
 "nbformat": 4,
 "nbformat_minor": 5
}
